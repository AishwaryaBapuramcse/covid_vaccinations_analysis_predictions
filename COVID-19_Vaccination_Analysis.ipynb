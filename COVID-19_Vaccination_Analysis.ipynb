{
 "cells": [
  {
   "cell_type": "markdown",
   "metadata": {},
   "source": [
    "# EXPLORATORY DATA ANALYSIS"
   ]
  },
  {
   "cell_type": "markdown",
   "metadata": {},
   "source": [
    "# TITLE: COVID-19 VACCINATIONS ANALYSIS"
   ]
  },
  {
   "cell_type": "markdown",
   "metadata": {},
   "source": [
    "# PROBLEM STATEMENT \n",
    "### Forecasting of time taken for completing 100% total vaccinations of particular region over the time period.By this, vaccine manufacturing companies get to know the prior requirements of vaccine which helps to produce the vaccines in large scale and complete the vaccination drive with in calculated time."
   ]
  },
  {
   "cell_type": "markdown",
   "metadata": {},
   "source": [
    "# TEAM DETAILS:\n",
    "### B Aishwarya\n",
    "### Ambika R\n",
    "### Aishwarya H\n",
    "### Ankitha Y"
   ]
  },
  {
   "cell_type": "markdown",
   "metadata": {},
   "source": [
    "# 1.Data Understanding "
   ]
  },
  {
   "cell_type": "markdown",
   "metadata": {},
   "source": [
    "### importing data and libraries"
   ]
  },
  {
   "cell_type": "code",
   "execution_count": null,
   "metadata": {
    "execution": {
     "iopub.execute_input": "2022-05-22T20:16:02.789489Z",
     "iopub.status.busy": "2022-05-22T20:16:02.789133Z",
     "iopub.status.idle": "2022-05-22T20:16:10.082622Z",
     "shell.execute_reply": "2022-05-22T20:16:10.081593Z",
     "shell.execute_reply.started": "2022-05-22T20:16:02.789381Z"
    }
   },
   "outputs": [],
   "source": [
    "import pandas as pd\n",
    "import seaborn as sns\n",
    "import numpy as np\n",
    "import matplotlib.pyplot as plt\n",
    "import plotly.express as px\n",
    "import io\n",
    "import requests\n",
    "import warnings\n",
    "warnings.filterwarnings('ignore')\n",
    "url = \"https://raw.githubusercontent.com/owid/covid-19-data/master/public/data/owid-covid-data.csv\"\n",
    "read_data = requests.get(url).content"
   ]
  },
  {
   "cell_type": "code",
   "execution_count": null,
   "metadata": {
    "execution": {
     "iopub.execute_input": "2022-05-22T20:16:10.085823Z",
     "iopub.status.busy": "2022-05-22T20:16:10.085179Z",
     "iopub.status.idle": "2022-05-22T20:16:11.432387Z",
     "shell.execute_reply": "2022-05-22T20:16:11.431501Z",
     "shell.execute_reply.started": "2022-05-22T20:16:10.085778Z"
    }
   },
   "outputs": [],
   "source": [
    "address = pd.read_csv(io.StringIO(read_data.decode('utf-8')))\n",
    "address.head()"
   ]
  },
  {
   "cell_type": "code",
   "execution_count": null,
   "metadata": {
    "execution": {
     "iopub.execute_input": "2022-05-22T20:16:11.435335Z",
     "iopub.status.busy": "2022-05-22T20:16:11.434717Z",
     "iopub.status.idle": "2022-05-22T20:16:11.859443Z",
     "shell.execute_reply": "2022-05-22T20:16:11.858516Z",
     "shell.execute_reply.started": "2022-05-22T20:16:11.435284Z"
    }
   },
   "outputs": [],
   "source": [
    "url2= \"https://raw.githubusercontent.com/owid/covid-19-data/master/public/data/vaccinations/vaccinations-by-manufacturer.csv\"\n",
    "read_data = requests.get(url2).content"
   ]
  },
  {
   "cell_type": "code",
   "execution_count": null,
   "metadata": {
    "execution": {
     "iopub.execute_input": "2022-05-22T20:16:11.862423Z",
     "iopub.status.busy": "2022-05-22T20:16:11.862095Z",
     "iopub.status.idle": "2022-05-22T20:16:11.895915Z",
     "shell.execute_reply": "2022-05-22T20:16:11.894945Z",
     "shell.execute_reply.started": "2022-05-22T20:16:11.862388Z"
    }
   },
   "outputs": [],
   "source": [
    "vaccine=pd.read_csv(io.StringIO(read_data.decode('utf-8')))"
   ]
  },
  {
   "cell_type": "code",
   "execution_count": null,
   "metadata": {
    "execution": {
     "iopub.execute_input": "2022-05-22T20:16:11.897989Z",
     "iopub.status.busy": "2022-05-22T20:16:11.897465Z",
     "iopub.status.idle": "2022-05-22T20:16:11.902624Z",
     "shell.execute_reply": "2022-05-22T20:16:11.901354Z",
     "shell.execute_reply.started": "2022-05-22T20:16:11.897952Z"
    }
   },
   "outputs": [],
   "source": [
    "data=address"
   ]
  },
  {
   "cell_type": "code",
   "execution_count": null,
   "metadata": {
    "execution": {
     "iopub.execute_input": "2022-05-22T20:16:11.905362Z",
     "iopub.status.busy": "2022-05-22T20:16:11.904604Z",
     "iopub.status.idle": "2022-05-22T20:16:11.917838Z",
     "shell.execute_reply": "2022-05-22T20:16:11.916494Z",
     "shell.execute_reply.started": "2022-05-22T20:16:11.905304Z"
    }
   },
   "outputs": [],
   "source": [
    "data.columns"
   ]
  },
  {
   "cell_type": "code",
   "execution_count": null,
   "metadata": {
    "execution": {
     "iopub.execute_input": "2022-05-22T20:16:11.920121Z",
     "iopub.status.busy": "2022-05-22T20:16:11.919585Z",
     "iopub.status.idle": "2022-05-22T20:16:12.047675Z",
     "shell.execute_reply": "2022-05-22T20:16:12.046635Z",
     "shell.execute_reply.started": "2022-05-22T20:16:11.920079Z"
    }
   },
   "outputs": [],
   "source": [
    "data.info()"
   ]
  },
  {
   "cell_type": "code",
   "execution_count": null,
   "metadata": {
    "execution": {
     "iopub.execute_input": "2022-05-22T20:16:12.050610Z",
     "iopub.status.busy": "2022-05-22T20:16:12.049020Z",
     "iopub.status.idle": "2022-05-22T20:16:12.648383Z",
     "shell.execute_reply": "2022-05-22T20:16:12.647403Z",
     "shell.execute_reply.started": "2022-05-22T20:16:12.050569Z"
    }
   },
   "outputs": [],
   "source": [
    "data.describe(include='all')"
   ]
  },
  {
   "cell_type": "code",
   "execution_count": null,
   "metadata": {
    "execution": {
     "iopub.execute_input": "2022-05-22T20:16:12.650811Z",
     "iopub.status.busy": "2022-05-22T20:16:12.649911Z",
     "iopub.status.idle": "2022-05-22T20:16:12.680515Z",
     "shell.execute_reply": "2022-05-22T20:16:12.679529Z",
     "shell.execute_reply.started": "2022-05-22T20:16:12.650766Z"
    }
   },
   "outputs": [],
   "source": [
    "vaccine.info()"
   ]
  },
  {
   "cell_type": "code",
   "execution_count": null,
   "metadata": {
    "execution": {
     "iopub.execute_input": "2022-05-22T20:16:12.685563Z",
     "iopub.status.busy": "2022-05-22T20:16:12.684946Z",
     "iopub.status.idle": "2022-05-22T20:16:12.709902Z",
     "shell.execute_reply": "2022-05-22T20:16:12.709004Z",
     "shell.execute_reply.started": "2022-05-22T20:16:12.685535Z"
    }
   },
   "outputs": [],
   "source": [
    "vaccine.describe()"
   ]
  },
  {
   "cell_type": "markdown",
   "metadata": {},
   "source": [
    "# 2.data preprocessing"
   ]
  },
  {
   "cell_type": "code",
   "execution_count": null,
   "metadata": {
    "execution": {
     "iopub.execute_input": "2022-05-22T20:16:12.711680Z",
     "iopub.status.busy": "2022-05-22T20:16:12.711286Z",
     "iopub.status.idle": "2022-05-22T20:16:12.821556Z",
     "shell.execute_reply": "2022-05-22T20:16:12.820550Z",
     "shell.execute_reply.started": "2022-05-22T20:16:12.711638Z"
    }
   },
   "outputs": [],
   "source": [
    "data.isnull().sum()"
   ]
  },
  {
   "cell_type": "code",
   "execution_count": null,
   "metadata": {
    "execution": {
     "iopub.execute_input": "2022-05-22T20:16:12.823529Z",
     "iopub.status.busy": "2022-05-22T20:16:12.823147Z",
     "iopub.status.idle": "2022-05-22T20:16:12.885521Z",
     "shell.execute_reply": "2022-05-22T20:16:12.884554Z",
     "shell.execute_reply.started": "2022-05-22T20:16:12.823489Z"
    }
   },
   "outputs": [],
   "source": [
    "data['date']=pd.to_datetime(data['date'])"
   ]
  },
  {
   "cell_type": "code",
   "execution_count": null,
   "metadata": {
    "execution": {
     "iopub.execute_input": "2022-05-22T20:16:12.887863Z",
     "iopub.status.busy": "2022-05-22T20:16:12.887512Z",
     "iopub.status.idle": "2022-05-22T20:16:12.909704Z",
     "shell.execute_reply": "2022-05-22T20:16:12.908527Z",
     "shell.execute_reply.started": "2022-05-22T20:16:12.887823Z"
    }
   },
   "outputs": [],
   "source": [
    "vaccine['date']=pd.to_datetime(data['date'])"
   ]
  },
  {
   "cell_type": "code",
   "execution_count": null,
   "metadata": {
    "execution": {
     "iopub.execute_input": "2022-05-22T20:16:12.913453Z",
     "iopub.status.busy": "2022-05-22T20:16:12.911059Z",
     "iopub.status.idle": "2022-05-22T20:16:12.957406Z",
     "shell.execute_reply": "2022-05-22T20:16:12.956404Z",
     "shell.execute_reply.started": "2022-05-22T20:16:12.913395Z"
    }
   },
   "outputs": [],
   "source": [
    "data.drop([ 'new_cases_smoothed','new_deaths_smoothed', 'new_cases_smoothed_per_million',\n",
    "       'new_deaths_smoothed_per_million', 'reproduction_rate', 'icu_patients',\n",
    "       'new_tests_smoothed', 'new_tests_smoothed_per_thousand',\n",
    "       'new_vaccinations_smoothed',\n",
    "       'new_vaccinations_smoothed_per_million',\n",
    "       'new_people_vaccinated_smoothed',\n",
    "       'new_people_vaccinated_smoothed_per_hundred'], axis=1, inplace=True)"
   ]
  },
  {
   "cell_type": "code",
   "execution_count": null,
   "metadata": {
    "execution": {
     "iopub.execute_input": "2022-05-22T20:16:12.959640Z",
     "iopub.status.busy": "2022-05-22T20:16:12.959142Z",
     "iopub.status.idle": "2022-05-22T20:16:12.993492Z",
     "shell.execute_reply": "2022-05-22T20:16:12.992524Z",
     "shell.execute_reply.started": "2022-05-22T20:16:12.959601Z"
    }
   },
   "outputs": [],
   "source": [
    "data.drop(['icu_patients_per_million','hosp_patients','hosp_patients_per_million','weekly_icu_admissions',\n",
    "           'weekly_icu_admissions_per_million','weekly_hosp_admissions','weekly_hosp_admissions_per_million',\n",
    "          'new_tests_per_thousand','excess_mortality_cumulative_absolute','excess_mortality_cumulative',\n",
    "         'excess_mortality','excess_mortality_cumulative_per_million','stringency_index','life_expectancy','human_development_index','extreme_poverty',                        \n",
    "'cardiovasc_death_rate',                  \n",
    "'diabetes_prevalence',                 \n",
    "'female_smokers',                         \n",
    "'male_smokers', \n",
    "'handwashing_facilities', \n",
    "'hospital_beds_per_thousand'],axis= 1,inplace=True)"
   ]
  },
  {
   "cell_type": "markdown",
   "metadata": {},
   "source": [
    "### checking for the null values"
   ]
  },
  {
   "cell_type": "code",
   "execution_count": null,
   "metadata": {
    "execution": {
     "iopub.execute_input": "2022-05-22T20:16:12.995808Z",
     "iopub.status.busy": "2022-05-22T20:16:12.995287Z",
     "iopub.status.idle": "2022-05-22T20:16:13.081478Z",
     "shell.execute_reply": "2022-05-22T20:16:13.080544Z",
     "shell.execute_reply.started": "2022-05-22T20:16:12.995754Z"
    }
   },
   "outputs": [],
   "source": [
    "x=data.isnull().sum()*100/len(data)\n",
    "x"
   ]
  },
  {
   "cell_type": "markdown",
   "metadata": {},
   "source": [
    "### checking for duplicate values "
   ]
  },
  {
   "cell_type": "code",
   "execution_count": null,
   "metadata": {
    "execution": {
     "iopub.execute_input": "2022-05-22T20:16:13.083876Z",
     "iopub.status.busy": "2022-05-22T20:16:13.083250Z",
     "iopub.status.idle": "2022-05-22T20:16:13.440264Z",
     "shell.execute_reply": "2022-05-22T20:16:13.439117Z",
     "shell.execute_reply.started": "2022-05-22T20:16:13.083832Z"
    }
   },
   "outputs": [],
   "source": [
    "duplicate = data[data.duplicated()] \n",
    "duplicate"
   ]
  },
  {
   "cell_type": "code",
   "execution_count": null,
   "metadata": {
    "execution": {
     "iopub.execute_input": "2022-05-22T20:16:13.442701Z",
     "iopub.status.busy": "2022-05-22T20:16:13.442363Z",
     "iopub.status.idle": "2022-05-22T20:16:13.517788Z",
     "shell.execute_reply": "2022-05-22T20:16:13.516779Z",
     "shell.execute_reply.started": "2022-05-22T20:16:13.442660Z"
    }
   },
   "outputs": [],
   "source": [
    "print(data.isnull().values.any()) "
   ]
  },
  {
   "cell_type": "code",
   "execution_count": null,
   "metadata": {
    "execution": {
     "iopub.execute_input": "2022-05-22T20:16:13.519922Z",
     "iopub.status.busy": "2022-05-22T20:16:13.519291Z",
     "iopub.status.idle": "2022-05-22T20:16:13.528587Z",
     "shell.execute_reply": "2022-05-22T20:16:13.527336Z",
     "shell.execute_reply.started": "2022-05-22T20:16:13.519879Z"
    }
   },
   "outputs": [],
   "source": [
    "\n",
    "data['total_deaths'].mean()"
   ]
  },
  {
   "cell_type": "code",
   "execution_count": null,
   "metadata": {
    "execution": {
     "iopub.execute_input": "2022-05-22T20:16:13.531930Z",
     "iopub.status.busy": "2022-05-22T20:16:13.530498Z",
     "iopub.status.idle": "2022-05-22T20:16:13.541098Z",
     "shell.execute_reply": "2022-05-22T20:16:13.539848Z",
     "shell.execute_reply.started": "2022-05-22T20:16:13.531887Z"
    }
   },
   "outputs": [],
   "source": [
    "data['total_deaths'].median()"
   ]
  },
  {
   "cell_type": "code",
   "execution_count": null,
   "metadata": {
    "execution": {
     "iopub.execute_input": "2022-05-22T20:16:13.543888Z",
     "iopub.status.busy": "2022-05-22T20:16:13.542919Z",
     "iopub.status.idle": "2022-05-22T20:16:13.558341Z",
     "shell.execute_reply": "2022-05-22T20:16:13.557239Z",
     "shell.execute_reply.started": "2022-05-22T20:16:13.543846Z"
    }
   },
   "outputs": [],
   "source": [
    "data['total_deaths'].replace(np.nan,data['total_deaths'].median()).head(10)"
   ]
  },
  {
   "cell_type": "markdown",
   "metadata": {},
   "source": [
    "###  using bfill method to fill nan cells"
   ]
  },
  {
   "cell_type": "code",
   "execution_count": null,
   "metadata": {
    "execution": {
     "iopub.execute_input": "2022-05-22T20:16:13.560517Z",
     "iopub.status.busy": "2022-05-22T20:16:13.559790Z",
     "iopub.status.idle": "2022-05-22T20:16:13.776415Z",
     "shell.execute_reply": "2022-05-22T20:16:13.775498Z",
     "shell.execute_reply.started": "2022-05-22T20:16:13.560474Z"
    }
   },
   "outputs": [],
   "source": [
    "data.fillna(method=\"bfill\")\n"
   ]
  },
  {
   "cell_type": "code",
   "execution_count": null,
   "metadata": {
    "execution": {
     "iopub.execute_input": "2022-05-22T20:16:13.779598Z",
     "iopub.status.busy": "2022-05-22T20:16:13.777893Z",
     "iopub.status.idle": "2022-05-22T20:16:13.858375Z",
     "shell.execute_reply": "2022-05-22T20:16:13.857521Z",
     "shell.execute_reply.started": "2022-05-22T20:16:13.779553Z"
    }
   },
   "outputs": [],
   "source": [
    "data.isnull().values.any() #Checking fo nan values in whole dataframe\n"
   ]
  },
  {
   "cell_type": "code",
   "execution_count": null,
   "metadata": {
    "execution": {
     "iopub.execute_input": "2022-05-22T20:16:13.860488Z",
     "iopub.status.busy": "2022-05-22T20:16:13.860160Z",
     "iopub.status.idle": "2022-05-22T20:16:13.897651Z",
     "shell.execute_reply": "2022-05-22T20:16:13.896551Z",
     "shell.execute_reply.started": "2022-05-22T20:16:13.860427Z"
    }
   },
   "outputs": [],
   "source": [
    "\n",
    "data.head()"
   ]
  },
  {
   "cell_type": "code",
   "execution_count": null,
   "metadata": {
    "execution": {
     "iopub.execute_input": "2022-05-22T20:16:13.902694Z",
     "iopub.status.busy": "2022-05-22T20:16:13.901607Z",
     "iopub.status.idle": "2022-05-22T20:16:13.991690Z",
     "shell.execute_reply": "2022-05-22T20:16:13.990552Z",
     "shell.execute_reply.started": "2022-05-22T20:16:13.902649Z"
    }
   },
   "outputs": [],
   "source": [
    "data.info(\n",
    ")"
   ]
  },
  {
   "cell_type": "code",
   "execution_count": null,
   "metadata": {
    "execution": {
     "iopub.execute_input": "2022-05-22T20:16:13.995418Z",
     "iopub.status.busy": "2022-05-22T20:16:13.995174Z",
     "iopub.status.idle": "2022-05-22T20:16:14.021806Z",
     "shell.execute_reply": "2022-05-22T20:16:14.020209Z",
     "shell.execute_reply.started": "2022-05-22T20:16:13.995391Z"
    }
   },
   "outputs": [],
   "source": [
    "data.drop(['tests_units'],axis=1,inplace=True)"
   ]
  },
  {
   "cell_type": "code",
   "execution_count": null,
   "metadata": {
    "execution": {
     "iopub.execute_input": "2022-05-22T20:16:14.025221Z",
     "iopub.status.busy": "2022-05-22T20:16:14.023863Z",
     "iopub.status.idle": "2022-05-22T20:16:14.098036Z",
     "shell.execute_reply": "2022-05-22T20:16:14.097006Z",
     "shell.execute_reply.started": "2022-05-22T20:16:14.025176Z"
    }
   },
   "outputs": [],
   "source": [
    "null_percentage=data.isna().sum()*100/len(data)\n",
    "null_percentage.head(38)"
   ]
  },
  {
   "cell_type": "code",
   "execution_count": null,
   "metadata": {
    "execution": {
     "iopub.execute_input": "2022-05-22T20:16:14.105710Z",
     "iopub.status.busy": "2022-05-22T20:16:14.105321Z",
     "iopub.status.idle": "2022-05-22T20:16:14.190154Z",
     "shell.execute_reply": "2022-05-22T20:16:14.188974Z",
     "shell.execute_reply.started": "2022-05-22T20:16:14.105677Z"
    }
   },
   "outputs": [],
   "source": [
    "data=data.fillna(method=\"bfill\")"
   ]
  },
  {
   "cell_type": "code",
   "execution_count": null,
   "metadata": {
    "execution": {
     "iopub.execute_input": "2022-05-22T20:16:14.193966Z",
     "iopub.status.busy": "2022-05-22T20:16:14.193675Z",
     "iopub.status.idle": "2022-05-22T20:16:14.267992Z",
     "shell.execute_reply": "2022-05-22T20:16:14.267027Z",
     "shell.execute_reply.started": "2022-05-22T20:16:14.193921Z"
    }
   },
   "outputs": [],
   "source": [
    "null_percentage=data.isna().sum()*100/len(data)\n",
    "\n",
    "null_percentage.head(38)"
   ]
  },
  {
   "cell_type": "code",
   "execution_count": null,
   "metadata": {
    "execution": {
     "iopub.execute_input": "2022-05-22T20:16:14.270564Z",
     "iopub.status.busy": "2022-05-22T20:16:14.269497Z",
     "iopub.status.idle": "2022-05-22T20:16:14.343628Z",
     "shell.execute_reply": "2022-05-22T20:16:14.342553Z",
     "shell.execute_reply.started": "2022-05-22T20:16:14.270520Z"
    }
   },
   "outputs": [],
   "source": [
    "data.isnull().sum()"
   ]
  },
  {
   "cell_type": "code",
   "execution_count": null,
   "metadata": {
    "execution": {
     "iopub.execute_input": "2022-05-22T20:16:14.346524Z",
     "iopub.status.busy": "2022-05-22T20:16:14.345394Z",
     "iopub.status.idle": "2022-05-22T20:16:14.362025Z",
     "shell.execute_reply": "2022-05-22T20:16:14.360879Z",
     "shell.execute_reply.started": "2022-05-22T20:16:14.346477Z"
    }
   },
   "outputs": [],
   "source": [
    "data['new_tests'].replace(np.nan,data['new_tests'].median(),inplace=True)\n",
    "data['positive_rate'].replace(np.nan,data['positive_rate'].median(),inplace=True)\n",
    "data['tests_per_case'].replace(np.nan,data['tests_per_case'].median(),inplace=True)\n",
    "data['new_vaccinations'].replace(np.nan,data['new_vaccinations'].median(),inplace=True)\n"
   ]
  },
  {
   "cell_type": "code",
   "execution_count": null,
   "metadata": {
    "execution": {
     "iopub.execute_input": "2022-05-22T20:16:14.364206Z",
     "iopub.status.busy": "2022-05-22T20:16:14.363573Z",
     "iopub.status.idle": "2022-05-22T20:16:14.439059Z",
     "shell.execute_reply": "2022-05-22T20:16:14.438077Z",
     "shell.execute_reply.started": "2022-05-22T20:16:14.364162Z"
    }
   },
   "outputs": [],
   "source": [
    "data.isnull().sum()"
   ]
  },
  {
   "cell_type": "code",
   "execution_count": null,
   "metadata": {
    "execution": {
     "iopub.execute_input": "2022-05-22T20:16:14.441659Z",
     "iopub.status.busy": "2022-05-22T20:16:14.440681Z",
     "iopub.status.idle": "2022-05-22T20:16:14.462418Z",
     "shell.execute_reply": "2022-05-22T20:16:14.461467Z",
     "shell.execute_reply.started": "2022-05-22T20:16:14.441601Z"
    }
   },
   "outputs": [],
   "source": [
    "v=vaccine.drop(['total_vaccinations'], axis = 1)\n",
    "v"
   ]
  },
  {
   "cell_type": "markdown",
   "metadata": {},
   "source": [
    "### Integrating two datasets,vaccines and vaccination names"
   ]
  },
  {
   "cell_type": "code",
   "execution_count": null,
   "metadata": {
    "execution": {
     "iopub.execute_input": "2022-05-22T20:16:14.464776Z",
     "iopub.status.busy": "2022-05-22T20:16:14.463990Z",
     "iopub.status.idle": "2022-05-22T20:16:14.559504Z",
     "shell.execute_reply": "2022-05-22T20:16:14.558515Z",
     "shell.execute_reply.started": "2022-05-22T20:16:14.464732Z"
    }
   },
   "outputs": [],
   "source": [
    "final=pd.merge(data,v,on=['date','location'],how='left')"
   ]
  },
  {
   "cell_type": "code",
   "execution_count": null,
   "metadata": {
    "execution": {
     "iopub.execute_input": "2022-05-22T20:16:14.561622Z",
     "iopub.status.busy": "2022-05-22T20:16:14.561260Z",
     "iopub.status.idle": "2022-05-22T20:16:14.651409Z",
     "shell.execute_reply": "2022-05-22T20:16:14.650520Z",
     "shell.execute_reply.started": "2022-05-22T20:16:14.561566Z"
    }
   },
   "outputs": [],
   "source": [
    "final.isnull().sum()"
   ]
  },
  {
   "cell_type": "code",
   "execution_count": null,
   "metadata": {
    "execution": {
     "iopub.execute_input": "2022-05-22T20:16:14.653425Z",
     "iopub.status.busy": "2022-05-22T20:16:14.653068Z",
     "iopub.status.idle": "2022-05-22T20:16:14.748212Z",
     "shell.execute_reply": "2022-05-22T20:16:14.747123Z",
     "shell.execute_reply.started": "2022-05-22T20:16:14.653383Z"
    }
   },
   "outputs": [],
   "source": [
    "n2=final.isna().sum()*100/len(final)"
   ]
  },
  {
   "cell_type": "code",
   "execution_count": null,
   "metadata": {
    "execution": {
     "iopub.execute_input": "2022-05-22T20:16:14.751828Z",
     "iopub.status.busy": "2022-05-22T20:16:14.751581Z",
     "iopub.status.idle": "2022-05-22T20:16:14.772659Z",
     "shell.execute_reply": "2022-05-22T20:16:14.771085Z",
     "shell.execute_reply.started": "2022-05-22T20:16:14.751801Z"
    }
   },
   "outputs": [],
   "source": [
    "final['vaccine'].isna().sum()/len(final)*100\n"
   ]
  },
  {
   "cell_type": "code",
   "execution_count": null,
   "metadata": {
    "execution": {
     "iopub.execute_input": "2022-05-22T20:16:14.775840Z",
     "iopub.status.busy": "2022-05-22T20:16:14.774842Z",
     "iopub.status.idle": "2022-05-22T20:16:14.939473Z",
     "shell.execute_reply": "2022-05-22T20:16:14.938410Z",
     "shell.execute_reply.started": "2022-05-22T20:16:14.775798Z"
    }
   },
   "outputs": [],
   "source": [
    "fin=pd.merge(data,v,on=['date','location'],how='left')\n",
    "fin"
   ]
  },
  {
   "cell_type": "markdown",
   "metadata": {},
   "source": [
    "### one hot encoding"
   ]
  },
  {
   "cell_type": "code",
   "execution_count": null,
   "metadata": {
    "execution": {
     "iopub.execute_input": "2022-05-22T20:16:14.941387Z",
     "iopub.status.busy": "2022-05-22T20:16:14.940879Z",
     "iopub.status.idle": "2022-05-22T20:16:15.141221Z",
     "shell.execute_reply": "2022-05-22T20:16:15.140178Z",
     "shell.execute_reply.started": "2022-05-22T20:16:14.941346Z"
    }
   },
   "outputs": [],
   "source": [
    "# Own implementation of One Hot Encoding - Data Transformation\n",
    "def convert_to_binary(df, column_to_convert):\n",
    "    categories = list(df[column_to_convert].drop_duplicates())\n",
    "\n",
    "    for category in categories:\n",
    "        cat_name = str(category).replace(\" \", \"_\").replace(\"(\", \"\").replace(\")\", \"\").replace(\"/\", \"_\").replace(\"-\", \"\").lower()\n",
    "        col_name = column_to_convert[:5] + '_' + cat_name[:10]\n",
    "        df[col_name] = 0\n",
    "        df.loc[(df[column_to_convert] == category), col_name] = 1\n",
    "\n",
    "    return df\n",
    "\n",
    "# One Hot Encoding\n",
    "print(\"One Hot Encoding categorical data...\")\n",
    "columns_to_convert = ['vaccine']\n",
    "\n",
    "for column in columns_to_convert:\n",
    "    df_all = convert_to_binary(df=final, column_to_convert=column)\n",
    "    df_all.drop(column, axis=1, inplace=True)\n",
    "print(\"One Hot Encoding categorical data...completed\")"
   ]
  },
  {
   "cell_type": "code",
   "execution_count": null,
   "metadata": {
    "execution": {
     "iopub.execute_input": "2022-05-22T20:16:15.142976Z",
     "iopub.status.busy": "2022-05-22T20:16:15.142633Z",
     "iopub.status.idle": "2022-05-22T20:16:15.232644Z",
     "shell.execute_reply": "2022-05-22T20:16:15.231637Z",
     "shell.execute_reply.started": "2022-05-22T20:16:15.142932Z"
    }
   },
   "outputs": [],
   "source": [
    "fin=fin.dropna()\n",
    "fin"
   ]
  },
  {
   "cell_type": "code",
   "execution_count": null,
   "metadata": {
    "execution": {
     "iopub.execute_input": "2022-05-22T20:16:17.765938Z",
     "iopub.status.busy": "2022-05-22T20:16:17.765286Z",
     "iopub.status.idle": "2022-05-22T20:16:17.782620Z",
     "shell.execute_reply": "2022-05-22T20:16:17.781587Z",
     "shell.execute_reply.started": "2022-05-22T20:16:17.765897Z"
    }
   },
   "outputs": [],
   "source": [
    "idf2=vaccine.groupby('vaccine',as_index=False).sum()"
   ]
  },
  {
   "cell_type": "code",
   "execution_count": null,
   "metadata": {
    "execution": {
     "iopub.execute_input": "2022-05-22T20:16:17.785793Z",
     "iopub.status.busy": "2022-05-22T20:16:17.785550Z",
     "iopub.status.idle": "2022-05-22T20:16:17.791524Z",
     "shell.execute_reply": "2022-05-22T20:16:17.790321Z",
     "shell.execute_reply.started": "2022-05-22T20:16:17.785758Z"
    }
   },
   "outputs": [],
   "source": [
    "idf2=idf2[['vaccine','total_vaccinations']]\n"
   ]
  },
  {
   "cell_type": "code",
   "execution_count": null,
   "metadata": {
    "execution": {
     "iopub.execute_input": "2022-05-22T20:16:17.794526Z",
     "iopub.status.busy": "2022-05-22T20:16:17.793285Z",
     "iopub.status.idle": "2022-05-22T20:16:17.805649Z",
     "shell.execute_reply": "2022-05-22T20:16:17.804607Z",
     "shell.execute_reply.started": "2022-05-22T20:16:17.794387Z"
    }
   },
   "outputs": [],
   "source": [
    "idf2.total_vaccinations[0]"
   ]
  },
  {
   "cell_type": "code",
   "execution_count": null,
   "metadata": {
    "execution": {
     "iopub.execute_input": "2022-05-22T20:16:17.808407Z",
     "iopub.status.busy": "2022-05-22T20:16:17.807334Z",
     "iopub.status.idle": "2022-05-22T20:16:17.822658Z",
     "shell.execute_reply": "2022-05-22T20:16:17.821387Z",
     "shell.execute_reply.started": "2022-05-22T20:16:17.808366Z"
    }
   },
   "outputs": [],
   "source": [
    "idf2"
   ]
  },
  {
   "cell_type": "code",
   "execution_count": null,
   "metadata": {
    "execution": {
     "iopub.execute_input": "2022-05-22T20:16:17.824507Z",
     "iopub.status.busy": "2022-05-22T20:16:17.824111Z",
     "iopub.status.idle": "2022-05-22T20:16:17.831080Z",
     "shell.execute_reply": "2022-05-22T20:16:17.829171Z",
     "shell.execute_reply.started": "2022-05-22T20:16:17.824467Z"
    }
   },
   "outputs": [],
   "source": [
    "idf=vaccine['vaccine']"
   ]
  },
  {
   "cell_type": "code",
   "execution_count": null,
   "metadata": {
    "execution": {
     "iopub.execute_input": "2022-05-22T20:16:17.833083Z",
     "iopub.status.busy": "2022-05-22T20:16:17.832289Z",
     "iopub.status.idle": "2022-05-22T20:16:17.842344Z",
     "shell.execute_reply": "2022-05-22T20:16:17.841119Z",
     "shell.execute_reply.started": "2022-05-22T20:16:17.833024Z"
    }
   },
   "outputs": [],
   "source": [
    "idf=idf.to_frame()"
   ]
  },
  {
   "cell_type": "code",
   "execution_count": null,
   "metadata": {
    "execution": {
     "iopub.execute_input": "2022-05-22T20:16:17.844284Z",
     "iopub.status.busy": "2022-05-22T20:16:17.843879Z",
     "iopub.status.idle": "2022-05-22T20:16:17.950365Z",
     "shell.execute_reply": "2022-05-22T20:16:17.949212Z",
     "shell.execute_reply.started": "2022-05-22T20:16:17.844209Z"
    }
   },
   "outputs": [],
   "source": [
    "idf=idf.dropna()"
   ]
  },
  {
   "cell_type": "code",
   "execution_count": null,
   "metadata": {
    "execution": {
     "iopub.execute_input": "2022-05-22T20:16:17.954836Z",
     "iopub.status.busy": "2022-05-22T20:16:17.953906Z",
     "iopub.status.idle": "2022-05-22T20:16:17.970111Z",
     "shell.execute_reply": "2022-05-22T20:16:17.969244Z",
     "shell.execute_reply.started": "2022-05-22T20:16:17.954793Z"
    }
   },
   "outputs": [],
   "source": [
    "idf"
   ]
  },
  {
   "cell_type": "markdown",
   "metadata": {},
   "source": [
    "# 3. Questions"
   ]
  },
  {
   "cell_type": "markdown",
   "metadata": {},
   "source": [
    "###  1.which is the most used vaccines?"
   ]
  },
  {
   "cell_type": "code",
   "execution_count": null,
   "metadata": {
    "execution": {
     "iopub.execute_input": "2022-05-22T20:16:17.972304Z",
     "iopub.status.busy": "2022-05-22T20:16:17.971302Z",
     "iopub.status.idle": "2022-05-22T20:16:18.380789Z",
     "shell.execute_reply": "2022-05-22T20:16:18.379546Z",
     "shell.execute_reply.started": "2022-05-22T20:16:17.972248Z"
    }
   },
   "outputs": [],
   "source": [
    "sns.set_theme(style=\"darkgrid\")\n",
    "sns.set(rc = {'figure.figsize':(20,10)})\n",
    "ax = sns.countplot(x=\"vaccine\", data=vaccine)\n"
   ]
  },
  {
   "cell_type": "markdown",
   "metadata": {},
   "source": [
    "#### pfizer is the most used vaccine because it got approved in many countries  very quickly."
   ]
  },
  {
   "cell_type": "markdown",
   "metadata": {},
   "source": [
    "##  2. Which countries has highest people fully vaccinated per hundred"
   ]
  },
  {
   "cell_type": "code",
   "execution_count": null,
   "metadata": {
    "execution": {
     "iopub.execute_input": "2022-05-22T20:16:19.487621Z",
     "iopub.status.busy": "2022-05-22T20:16:19.486685Z",
     "iopub.status.idle": "2022-05-22T20:16:19.539616Z",
     "shell.execute_reply": "2022-05-22T20:16:19.538241Z",
     "shell.execute_reply.started": "2022-05-22T20:16:19.487562Z"
    },
    "scrolled": true
   },
   "outputs": [],
   "source": [
    "c=final['location'].value_counts().loc[lambda x:x>1500]\n",
    "c=pd.DataFrame(c)\n",
    "c.rename(columns={'location':\"people_fully_vaccinated_per_hundred\"},inplace=True)\n",
    "c[1:]"
   ]
  },
  {
   "cell_type": "code",
   "execution_count": null,
   "metadata": {
    "execution": {
     "iopub.execute_input": "2022-05-22T20:16:19.542125Z",
     "iopub.status.busy": "2022-05-22T20:16:19.541537Z",
     "iopub.status.idle": "2022-05-22T20:16:19.901371Z",
     "shell.execute_reply": "2022-05-22T20:16:19.900384Z",
     "shell.execute_reply.started": "2022-05-22T20:16:19.542085Z"
    }
   },
   "outputs": [],
   "source": [
    "plt.style.use(\"fivethirtyeight\")\n",
    "plt.figure(figsize=(15,8))\n",
    "plt.xlabel(\"Country\")\n",
    "plt.ylabel(\"people_fully_vaccinated_per_hundred\")\n",
    "sns.barplot(y=c['people_fully_vaccinated_per_hundred'][1:],x=c.index[1:])\n",
    "plt.show()"
   ]
  },
  {
   "cell_type": "markdown",
   "metadata": {},
   "source": [
    "## 3. what is the share of total vaccinationsof covid-19 in each country"
   ]
  },
  {
   "cell_type": "code",
   "execution_count": null,
   "metadata": {},
   "outputs": [],
   "source": [
    "df_loc=final.groupby('location',as_index=False)"
   ]
  },
  {
   "cell_type": "code",
   "execution_count": null,
   "metadata": {},
   "outputs": [],
   "source": [
    "fig = px.treemap(final, path=[px.Constant('total_vaccinations'),'location'], values='total_vaccinations',\n",
    "                   hover_data=['location'])\n",
    "fig.show()"
   ]
  },
  {
   "cell_type": "markdown",
   "metadata": {},
   "source": [
    "### 8 countries in top 10 countries with people_fully_vaccinatd_per_hundred belong to europe"
   ]
  },
  {
   "cell_type": "markdown",
   "metadata": {},
   "source": [
    "# 4. Data Analysis and Visualisation "
   ]
  },
  {
   "cell_type": "code",
   "execution_count": null,
   "metadata": {},
   "outputs": [],
   "source": [
    "corrmat = final.corr()\n",
    "  \n",
    "f, ax = plt.subplots(figsize =(9, 8))\n",
    "sns.heatmap(corrmat, ax = ax, cmap =\"YlGnBu\", linewidths = 0.1)"
   ]
  },
  {
   "cell_type": "markdown",
   "metadata": {},
   "source": [
    "### Correlation describes how two attributes are related and indicates that as one variable changes in value, the other variable tends to change in a specific direction"
   ]
  },
  {
   "cell_type": "code",
   "execution_count": null,
   "metadata": {
    "execution": {
     "iopub.execute_input": "2022-05-22T20:16:19.905068Z",
     "iopub.status.busy": "2022-05-22T20:16:19.903054Z",
     "iopub.status.idle": "2022-05-22T20:16:19.917277Z",
     "shell.execute_reply": "2022-05-22T20:16:19.916137Z",
     "shell.execute_reply.started": "2022-05-22T20:16:19.905039Z"
    }
   },
   "outputs": [],
   "source": [
    "time_series = pd.DataFrame(final['date'].value_counts().reset_index())\n",
    "time_series.columns = ['date', 'count']"
   ]
  },
  {
   "cell_type": "code",
   "execution_count": null,
   "metadata": {
    "execution": {
     "iopub.execute_input": "2022-05-22T20:16:19.919975Z",
     "iopub.status.busy": "2022-05-22T20:16:19.919065Z",
     "iopub.status.idle": "2022-05-22T20:16:20.541096Z",
     "shell.execute_reply": "2022-05-22T20:16:20.540166Z",
     "shell.execute_reply.started": "2022-05-22T20:16:19.919934Z"
    }
   },
   "outputs": [],
   "source": [
    "time_series= time_series.sort_values('date', ascending=True)\n",
    "plt.style.use(\"fivethirtyeight\")\n",
    "plt.figure(figsize=(15,8))\n",
    "plt.plot(time_series['date'], time_series['count'],linewidth=1)\n",
    "plt.xticks(rotation='vertical')\n",
    "plt.xlabel(\"Date\")\n",
    "plt.ylabel(\"Count\")"
   ]
  },
  {
   "cell_type": "code",
   "execution_count": null,
   "metadata": {
    "execution": {
     "iopub.execute_input": "2022-05-22T20:16:20.543018Z",
     "iopub.status.busy": "2022-05-22T20:16:20.542781Z",
     "iopub.status.idle": "2022-05-22T20:16:20.550725Z",
     "shell.execute_reply": "2022-05-22T20:16:20.549542Z",
     "shell.execute_reply.started": "2022-05-22T20:16:20.542990Z"
    }
   },
   "outputs": [],
   "source": [
    "a=final['median_age'].values"
   ]
  },
  {
   "cell_type": "code",
   "execution_count": null,
   "metadata": {
    "execution": {
     "iopub.execute_input": "2022-05-22T20:16:20.552774Z",
     "iopub.status.busy": "2022-05-22T20:16:20.552352Z",
     "iopub.status.idle": "2022-05-22T20:16:20.560559Z",
     "shell.execute_reply": "2022-05-22T20:16:20.559160Z",
     "shell.execute_reply.started": "2022-05-22T20:16:20.552718Z"
    }
   },
   "outputs": [],
   "source": [
    "d=final['total_boosters'].values"
   ]
  },
  {
   "cell_type": "code",
   "execution_count": null,
   "metadata": {
    "execution": {
     "iopub.execute_input": "2022-05-22T20:16:20.562960Z",
     "iopub.status.busy": "2022-05-22T20:16:20.562561Z",
     "iopub.status.idle": "2022-05-22T20:16:20.572597Z",
     "shell.execute_reply": "2022-05-22T20:16:20.571513Z",
     "shell.execute_reply.started": "2022-05-22T20:16:20.562888Z"
    }
   },
   "outputs": [],
   "source": [
    "X=final[['date','total_vaccinations_per_hundred']]"
   ]
  },
  {
   "cell_type": "code",
   "execution_count": null,
   "metadata": {
    "execution": {
     "iopub.execute_input": "2022-05-22T20:16:20.574968Z",
     "iopub.status.busy": "2022-05-22T20:16:20.574464Z",
     "iopub.status.idle": "2022-05-22T20:16:20.593973Z",
     "shell.execute_reply": "2022-05-22T20:16:20.592737Z",
     "shell.execute_reply.started": "2022-05-22T20:16:20.574911Z"
    }
   },
   "outputs": [],
   "source": [
    "X"
   ]
  },
  {
   "cell_type": "code",
   "execution_count": null,
   "metadata": {
    "execution": {
     "iopub.execute_input": "2022-05-22T20:16:20.596843Z",
     "iopub.status.busy": "2022-05-22T20:16:20.596396Z",
     "iopub.status.idle": "2022-05-22T20:16:20.603484Z",
     "shell.execute_reply": "2022-05-22T20:16:20.602371Z",
     "shell.execute_reply.started": "2022-05-22T20:16:20.596730Z"
    }
   },
   "outputs": [],
   "source": [
    "df=X"
   ]
  },
  {
   "cell_type": "code",
   "execution_count": null,
   "metadata": {
    "execution": {
     "iopub.execute_input": "2022-05-22T20:16:20.605013Z",
     "iopub.status.busy": "2022-05-22T20:16:20.604671Z",
     "iopub.status.idle": "2022-05-22T20:16:20.624537Z",
     "shell.execute_reply": "2022-05-22T20:16:20.623372Z",
     "shell.execute_reply.started": "2022-05-22T20:16:20.604971Z"
    }
   },
   "outputs": [],
   "source": [
    "df"
   ]
  },
  {
   "cell_type": "code",
   "execution_count": null,
   "metadata": {
    "execution": {
     "iopub.execute_input": "2022-05-22T20:16:20.626720Z",
     "iopub.status.busy": "2022-05-22T20:16:20.626364Z",
     "iopub.status.idle": "2022-05-22T20:16:21.944651Z",
     "shell.execute_reply": "2022-05-22T20:16:21.943683Z",
     "shell.execute_reply.started": "2022-05-22T20:16:20.626678Z"
    }
   },
   "outputs": [],
   "source": [
    "final.plot(x='date',y='total_boosters')"
   ]
  },
  {
   "cell_type": "markdown",
   "metadata": {},
   "source": [
    "### Booster doses drive started around november 2021. "
   ]
  },
  {
   "cell_type": "code",
   "execution_count": null,
   "metadata": {
    "execution": {
     "iopub.execute_input": "2022-05-22T20:16:21.946804Z",
     "iopub.status.busy": "2022-05-22T20:16:21.946201Z",
     "iopub.status.idle": "2022-05-22T20:16:21.967005Z",
     "shell.execute_reply": "2022-05-22T20:16:21.965973Z",
     "shell.execute_reply.started": "2022-05-22T20:16:21.946761Z"
    }
   },
   "outputs": [],
   "source": [
    "final[['date','total_vaccinations_per_hundred']]"
   ]
  },
  {
   "cell_type": "code",
   "execution_count": null,
   "metadata": {
    "execution": {
     "iopub.execute_input": "2022-05-22T20:16:21.978028Z",
     "iopub.status.busy": "2022-05-22T20:16:21.977680Z",
     "iopub.status.idle": "2022-05-22T20:16:21.986807Z",
     "shell.execute_reply": "2022-05-22T20:16:21.985797Z",
     "shell.execute_reply.started": "2022-05-22T20:16:21.977974Z"
    }
   },
   "outputs": [],
   "source": [
    "df['total_vaccinations']=final['total_vaccinations']"
   ]
  },
  {
   "cell_type": "code",
   "execution_count": null,
   "metadata": {
    "execution": {
     "iopub.execute_input": "2022-05-22T20:16:22.005560Z",
     "iopub.status.busy": "2022-05-22T20:16:22.004303Z",
     "iopub.status.idle": "2022-05-22T20:16:22.015913Z",
     "shell.execute_reply": "2022-05-22T20:16:22.014919Z",
     "shell.execute_reply.started": "2022-05-22T20:16:22.005484Z"
    }
   },
   "outputs": [],
   "source": [
    "df[['total_vaccinations','total_vaccinations_per_hundred']]=final[['total_vaccinations','total_vaccinations_per_hundred']]"
   ]
  },
  {
   "cell_type": "code",
   "execution_count": null,
   "metadata": {
    "execution": {
     "iopub.execute_input": "2022-05-22T20:16:22.018695Z",
     "iopub.status.busy": "2022-05-22T20:16:22.017354Z",
     "iopub.status.idle": "2022-05-22T20:16:22.039190Z",
     "shell.execute_reply": "2022-05-22T20:16:22.038253Z",
     "shell.execute_reply.started": "2022-05-22T20:16:22.018650Z"
    }
   },
   "outputs": [],
   "source": [
    "df"
   ]
  },
  {
   "cell_type": "code",
   "execution_count": null,
   "metadata": {
    "execution": {
     "iopub.execute_input": "2022-05-22T20:16:22.041489Z",
     "iopub.status.busy": "2022-05-22T20:16:22.040725Z",
     "iopub.status.idle": "2022-05-22T20:16:22.047053Z",
     "shell.execute_reply": "2022-05-22T20:16:22.046019Z",
     "shell.execute_reply.started": "2022-05-22T20:16:22.041426Z"
    }
   },
   "outputs": [],
   "source": [
    "temp=pd.DataFrame()"
   ]
  },
  {
   "cell_type": "code",
   "execution_count": null,
   "metadata": {
    "execution": {
     "iopub.execute_input": "2022-05-22T20:16:22.049741Z",
     "iopub.status.busy": "2022-05-22T20:16:22.048887Z",
     "iopub.status.idle": "2022-05-22T20:16:22.086962Z",
     "shell.execute_reply": "2022-05-22T20:16:22.085998Z",
     "shell.execute_reply.started": "2022-05-22T20:16:22.049684Z"
    }
   },
   "outputs": [],
   "source": [
    "temp[['date','total_vaccinations','total_vaccinations_per_hundred']]=final[['date','total_vaccinations','total_vaccinations_per_hundred']]"
   ]
  },
  {
   "cell_type": "code",
   "execution_count": null,
   "metadata": {
    "execution": {
     "iopub.execute_input": "2022-05-22T20:16:22.090407Z",
     "iopub.status.busy": "2022-05-22T20:16:22.090184Z",
     "iopub.status.idle": "2022-05-22T20:16:22.110755Z",
     "shell.execute_reply": "2022-05-22T20:16:22.109902Z",
     "shell.execute_reply.started": "2022-05-22T20:16:22.090381Z"
    }
   },
   "outputs": [],
   "source": [
    "temp"
   ]
  },
  {
   "cell_type": "code",
   "execution_count": null,
   "metadata": {
    "execution": {
     "iopub.execute_input": "2022-05-22T20:16:22.135299Z",
     "iopub.status.busy": "2022-05-22T20:16:22.134588Z",
     "iopub.status.idle": "2022-05-22T20:16:23.470885Z",
     "shell.execute_reply": "2022-05-22T20:16:23.469893Z",
     "shell.execute_reply.started": "2022-05-22T20:16:22.135244Z"
    }
   },
   "outputs": [],
   "source": [
    "final.plot(x='date',y='total_vaccinations')"
   ]
  },
  {
   "cell_type": "markdown",
   "metadata": {},
   "source": [
    "### there is a linear increase of total vaccinations"
   ]
  },
  {
   "cell_type": "code",
   "execution_count": null,
   "metadata": {
    "execution": {
     "iopub.execute_input": "2022-05-22T20:16:23.473002Z",
     "iopub.status.busy": "2022-05-22T20:16:23.472507Z",
     "iopub.status.idle": "2022-05-22T20:16:23.477468Z",
     "shell.execute_reply": "2022-05-22T20:16:23.476501Z",
     "shell.execute_reply.started": "2022-05-22T20:16:23.472963Z"
    }
   },
   "outputs": [],
   "source": [
    "\n",
    "# temp[['date','total_vaccinations']].plot(kind='kde')\n"
   ]
  },
  {
   "cell_type": "code",
   "execution_count": null,
   "metadata": {
    "execution": {
     "iopub.execute_input": "2022-05-22T20:16:23.479681Z",
     "iopub.status.busy": "2022-05-22T20:16:23.479142Z",
     "iopub.status.idle": "2022-05-22T20:16:23.502629Z",
     "shell.execute_reply": "2022-05-22T20:16:23.501284Z",
     "shell.execute_reply.started": "2022-05-22T20:16:23.479644Z"
    }
   },
   "outputs": [],
   "source": [
    "df"
   ]
  },
  {
   "cell_type": "code",
   "execution_count": null,
   "metadata": {
    "execution": {
     "iopub.execute_input": "2022-05-22T20:16:23.505367Z",
     "iopub.status.busy": "2022-05-22T20:16:23.504889Z",
     "iopub.status.idle": "2022-05-22T20:16:23.516315Z",
     "shell.execute_reply": "2022-05-22T20:16:23.515223Z",
     "shell.execute_reply.started": "2022-05-22T20:16:23.505275Z"
    }
   },
   "outputs": [],
   "source": [
    "\n",
    "temp=temp.set_index('date')"
   ]
  },
  {
   "cell_type": "code",
   "execution_count": null,
   "metadata": {
    "execution": {
     "iopub.execute_input": "2022-05-22T20:16:23.520138Z",
     "iopub.status.busy": "2022-05-22T20:16:23.519547Z",
     "iopub.status.idle": "2022-05-22T20:16:23.540123Z",
     "shell.execute_reply": "2022-05-22T20:16:23.539225Z",
     "shell.execute_reply.started": "2022-05-22T20:16:23.520098Z"
    }
   },
   "outputs": [],
   "source": [
    "temp\n"
   ]
  },
  {
   "cell_type": "code",
   "execution_count": null,
   "metadata": {
    "execution": {
     "iopub.execute_input": "2022-05-22T20:16:23.542185Z",
     "iopub.status.busy": "2022-05-22T20:16:23.541616Z",
     "iopub.status.idle": "2022-05-22T20:16:23.551408Z",
     "shell.execute_reply": "2022-05-22T20:16:23.550403Z",
     "shell.execute_reply.started": "2022-05-22T20:16:23.542146Z"
    }
   },
   "outputs": [],
   "source": [
    "%matplotlib inline\n",
    "from matplotlib.pylab import rcParams\n",
    "rcParams['figure.figsize'] = 10, 6"
   ]
  },
  {
   "cell_type": "code",
   "execution_count": null,
   "metadata": {
    "execution": {
     "iopub.execute_input": "2022-05-22T20:16:23.554648Z",
     "iopub.status.busy": "2022-05-22T20:16:23.553827Z",
     "iopub.status.idle": "2022-05-22T20:16:23.560693Z",
     "shell.execute_reply": "2022-05-22T20:16:23.559499Z",
     "shell.execute_reply.started": "2022-05-22T20:16:23.554589Z"
    }
   },
   "outputs": [],
   "source": [
    "df2=temp"
   ]
  },
  {
   "cell_type": "code",
   "execution_count": null,
   "metadata": {
    "execution": {
     "iopub.execute_input": "2022-05-22T20:16:23.564528Z",
     "iopub.status.busy": "2022-05-22T20:16:23.564247Z",
     "iopub.status.idle": "2022-05-22T20:16:23.584340Z",
     "shell.execute_reply": "2022-05-22T20:16:23.583121Z",
     "shell.execute_reply.started": "2022-05-22T20:16:23.564501Z"
    }
   },
   "outputs": [],
   "source": [
    "df2"
   ]
  },
  {
   "cell_type": "code",
   "execution_count": null,
   "metadata": {
    "execution": {
     "iopub.execute_input": "2022-05-22T20:16:26.781937Z",
     "iopub.status.busy": "2022-05-22T20:16:26.779771Z",
     "iopub.status.idle": "2022-05-22T20:16:26.791430Z",
     "shell.execute_reply": "2022-05-22T20:16:26.790452Z",
     "shell.execute_reply.started": "2022-05-22T20:16:26.781876Z"
    }
   },
   "outputs": [],
   "source": [
    "df_loc=final[['date' ]]"
   ]
  },
  {
   "cell_type": "code",
   "execution_count": null,
   "metadata": {
    "execution": {
     "iopub.execute_input": "2022-05-22T20:16:26.793903Z",
     "iopub.status.busy": "2022-05-22T20:16:26.793135Z",
     "iopub.status.idle": "2022-05-22T20:16:26.981584Z",
     "shell.execute_reply": "2022-05-22T20:16:26.980637Z",
     "shell.execute_reply.started": "2022-05-22T20:16:26.793863Z"
    }
   },
   "outputs": [],
   "source": [
    "df_loc=final.groupby('location',as_index=False).sum()"
   ]
  },
  {
   "cell_type": "code",
   "execution_count": null,
   "metadata": {
    "execution": {
     "iopub.execute_input": "2022-05-22T20:16:26.989597Z",
     "iopub.status.busy": "2022-05-22T20:16:26.987015Z",
     "iopub.status.idle": "2022-05-22T20:16:27.057695Z",
     "shell.execute_reply": "2022-05-22T20:16:27.056750Z",
     "shell.execute_reply.started": "2022-05-22T20:16:26.989552Z"
    }
   },
   "outputs": [],
   "source": [
    "df_loc"
   ]
  },
  {
   "cell_type": "code",
   "execution_count": null,
   "metadata": {
    "execution": {
     "iopub.execute_input": "2022-05-22T20:16:28.436474Z",
     "iopub.status.busy": "2022-05-22T20:16:28.435506Z",
     "iopub.status.idle": "2022-05-22T20:16:28.571462Z",
     "shell.execute_reply": "2022-05-22T20:16:28.570413Z",
     "shell.execute_reply.started": "2022-05-22T20:16:28.436412Z"
    }
   },
   "outputs": [],
   "source": [
    "fig = px.treemap(df_loc, path=[px.Constant('gdp_per_capita'),'location'], values='gdp_per_capita',\n",
    "                   hover_data=['location'])\n",
    "fig.show()"
   ]
  },
  {
   "cell_type": "markdown",
   "metadata": {},
   "source": [
    "### Germany,Switzerland,Qatar,Luxembourg  has Highest gdp per capita"
   ]
  },
  {
   "cell_type": "markdown",
   "metadata": {
    "execution": {
     "iopub.execute_input": "2022-05-22T20:16:28.573237Z",
     "iopub.status.busy": "2022-05-22T20:16:28.572880Z",
     "iopub.status.idle": "2022-05-22T20:16:28.581882Z",
     "shell.execute_reply": "2022-05-22T20:16:28.580606Z",
     "shell.execute_reply.started": "2022-05-22T20:16:28.573198Z"
    }
   },
   "source": [
    "df_loc.columns"
   ]
  },
  {
   "cell_type": "code",
   "execution_count": null,
   "metadata": {
    "execution": {
     "iopub.execute_input": "2022-05-22T20:16:28.584516Z",
     "iopub.status.busy": "2022-05-22T20:16:28.584079Z",
     "iopub.status.idle": "2022-05-22T20:16:28.719646Z",
     "shell.execute_reply": "2022-05-22T20:16:28.718815Z",
     "shell.execute_reply.started": "2022-05-22T20:16:28.584394Z"
    }
   },
   "outputs": [],
   "source": [
    "fig = px.treemap(df_loc, path=[px.Constant('total_deaths'),'location'], values='total_deaths',\n",
    "                   hover_data=['location'])\n",
    "fig.show()"
   ]
  },
  {
   "cell_type": "markdown",
   "metadata": {},
   "source": [
    "## European union has the highest deaths , even though it has the higher  vaccinations  and Gdp"
   ]
  },
  {
   "cell_type": "code",
   "execution_count": null,
   "metadata": {
    "execution": {
     "iopub.execute_input": "2022-05-22T20:16:28.721447Z",
     "iopub.status.busy": "2022-05-22T20:16:28.720979Z",
     "iopub.status.idle": "2022-05-22T20:16:28.776398Z",
     "shell.execute_reply": "2022-05-22T20:16:28.775518Z",
     "shell.execute_reply.started": "2022-05-22T20:16:28.721383Z"
    }
   },
   "outputs": [],
   "source": [
    "df_add=address.groupby('iso_code',as_index=False).sum()"
   ]
  },
  {
   "cell_type": "code",
   "execution_count": null,
   "metadata": {
    "execution": {
     "iopub.execute_input": "2022-05-22T20:16:28.778530Z",
     "iopub.status.busy": "2022-05-22T20:16:28.778153Z",
     "iopub.status.idle": "2022-05-22T20:16:28.831772Z",
     "shell.execute_reply": "2022-05-22T20:16:28.830766Z",
     "shell.execute_reply.started": "2022-05-22T20:16:28.778490Z"
    }
   },
   "outputs": [],
   "source": [
    "df_add"
   ]
  },
  {
   "cell_type": "code",
   "execution_count": null,
   "metadata": {
    "execution": {
     "iopub.execute_input": "2022-05-22T20:16:28.833844Z",
     "iopub.status.busy": "2022-05-22T20:16:28.833491Z",
     "iopub.status.idle": "2022-05-22T20:16:28.957041Z",
     "shell.execute_reply": "2022-05-22T20:16:28.956138Z",
     "shell.execute_reply.started": "2022-05-22T20:16:28.833806Z"
    }
   },
   "outputs": [],
   "source": [
    "map_total_vac = px.choropleth(data_frame = df_add , locations=\"iso_code\" , color=\"total_vaccinations_per_hundred\" \n",
    "                             , hover_name=\"iso_code\" , color_continuous_scale=px.colors.sequential.deep)\n",
    "map_total_vac.update_layout(title_text='Total vaccinations per hundred in each country'\n",
    "                                  , title_font={'family':'serif','size':26} , title = {'y':0.94 , 'x':0.45})\n",
    "map_total_vac.show()\n",
    "\n"
   ]
  },
  {
   "cell_type": "markdown",
   "metadata": {},
   "source": [
    "## North America,European Union,China and  countries with higher gdp have higher total vaccination per hundred"
   ]
  },
  {
   "cell_type": "code",
   "execution_count": null,
   "metadata": {},
   "outputs": [],
   "source": [
    "sns.set_theme(style=\"darkgrid\")\n",
    "sns.set(rc = {'figure.figsize':(40,20)})\n",
    "ax = sns.countplot(x=\"location\", data=vaccine)\n"
   ]
  },
  {
   "cell_type": "markdown",
   "metadata": {},
   "source": [
    "## european union has recorded highest number of vaccinations"
   ]
  },
  {
   "cell_type": "code",
   "execution_count": null,
   "metadata": {
    "execution": {
     "iopub.execute_input": "2022-05-22T20:16:28.959249Z",
     "iopub.status.busy": "2022-05-22T20:16:28.958394Z",
     "iopub.status.idle": "2022-05-22T20:16:28.967680Z",
     "shell.execute_reply": "2022-05-22T20:16:28.966516Z",
     "shell.execute_reply.started": "2022-05-22T20:16:28.959208Z"
    },
    "scrolled": true
   },
   "outputs": [],
   "source": [
    "df_add.columns"
   ]
  },
  {
   "cell_type": "code",
   "execution_count": null,
   "metadata": {
    "execution": {
     "iopub.execute_input": "2022-05-22T20:16:28.970873Z",
     "iopub.status.busy": "2022-05-22T20:16:28.969484Z",
     "iopub.status.idle": "2022-05-22T20:16:28.994412Z",
     "shell.execute_reply": "2022-05-22T20:16:28.993474Z",
     "shell.execute_reply.started": "2022-05-22T20:16:28.970829Z"
    }
   },
   "outputs": [],
   "source": [
    "df"
   ]
  },
  {
   "cell_type": "code",
   "execution_count": null,
   "metadata": {
    "execution": {
     "iopub.execute_input": "2022-05-22T20:16:28.996400Z",
     "iopub.status.busy": "2022-05-22T20:16:28.996095Z",
     "iopub.status.idle": "2022-05-22T20:16:29.041076Z",
     "shell.execute_reply": "2022-05-22T20:16:29.040123Z",
     "shell.execute_reply.started": "2022-05-22T20:16:28.996363Z"
    }
   },
   "outputs": [],
   "source": [
    "df_loc"
   ]
  },
  {
   "cell_type": "code",
   "execution_count": null,
   "metadata": {
    "execution": {
     "iopub.execute_input": "2022-05-22T20:16:29.043585Z",
     "iopub.status.busy": "2022-05-22T20:16:29.042963Z",
     "iopub.status.idle": "2022-05-22T20:16:29.138894Z",
     "shell.execute_reply": "2022-05-22T20:16:29.137897Z",
     "shell.execute_reply.started": "2022-05-22T20:16:29.043544Z"
    }
   },
   "outputs": [],
   "source": [
    "fig = px.bar(df_loc.sort_values('new_deaths', ascending=False)[:20][::-1], \n",
    "             x='new_deaths', y='location',\n",
    "             title=' New Deaths Worldwide', text='location', height=1000, orientation='h')\n",
    "fig.show()\n"
   ]
  },
  {
   "cell_type": "markdown",
   "metadata": {},
   "source": [
    "## European  Union has the highest new deaths"
   ]
  },
  {
   "cell_type": "code",
   "execution_count": null,
   "metadata": {},
   "outputs": [],
   "source": [
    "\n",
    "import plotly.express as px\n",
    "fig = px.treemap(fin,names = 'location',values = 'total_vaccinations',\n",
    "                 path = ['vaccine','location'],\n",
    "                 title=\"Total Vaccinations per country grouped by Vaccines\",\n",
    "                 color_discrete_sequence =px.colors.qualitative.Set1)\n",
    "fig.show()"
   ]
  },
  {
   "cell_type": "markdown",
   "metadata": {},
   "source": [
    "## Vaccines like pfizer,Moderna are used by many countries where as vaccines like sinovac and sputnik are not approved in many countries"
   ]
  },
  {
   "cell_type": "code",
   "execution_count": null,
   "metadata": {},
   "outputs": [],
   "source": [
    "# Pie chart, where the slices will be ordered and plotted counter-clockwise:\n",
    "df_con=final.groupby('continent',as_index=False).sum()\n",
    "import matplotlib as mpl\n",
    "mpl.rcParams['font.size'] = 30.0\n",
    "explode = (0, 0.1, 0, 0,0,0)  # only \"explode\" the 2nd slice (i.e. 'Hogs')\n",
    "fig1, ax1 = plt.subplots()\n",
    "ax1.pie(df_con['total_vaccinations_per_hundred'], labels=df_con['continent'], autopct='%1.1f%%',\n",
    "        shadow=True, startangle=90,explode=explode,textprops={'fontsize': 35})\n",
    "\n",
    "\n",
    "ax1.axis('equal')  # Equal aspect ratio ensures that pie is drawn as a circle.\n",
    "plt.title(\"total vaccinations per 100(continent wise)\",pad=80,fontdict={'fontsize':35})\n",
    "plt.show()"
   ]
  },
  {
   "cell_type": "markdown",
   "metadata": {},
   "source": [
    "## asia and europe have around 50 percent of all vaccinations "
   ]
  },
  {
   "cell_type": "code",
   "execution_count": null,
   "metadata": {
    "execution": {
     "iopub.execute_input": "2022-05-22T20:16:29.141080Z",
     "iopub.status.busy": "2022-05-22T20:16:29.140563Z",
     "iopub.status.idle": "2022-05-22T20:17:02.168871Z",
     "shell.execute_reply": "2022-05-22T20:17:02.167409Z",
     "shell.execute_reply.started": "2022-05-22T20:16:29.141041Z"
    }
   },
   "outputs": [],
   "source": [
    "plt.figure(figsize=(20,7))\n",
    "sns.lineplot(x=\"date\",y=\"new_vaccinations\",data=final)\n",
    "plt.title(\"New Vaccines\")\n",
    "plt.show()"
   ]
  },
  {
   "cell_type": "markdown",
   "metadata": {},
   "source": [
    "##  trend of new vaccinations in world "
   ]
  },
  {
   "cell_type": "markdown",
   "metadata": {},
   "source": [
    "# 5. Model Building"
   ]
  },
  {
   "cell_type": "code",
   "execution_count": null,
   "metadata": {},
   "outputs": [],
   "source": [
    "!pip install pycaret"
   ]
  },
  {
   "cell_type": "code",
   "execution_count": null,
   "metadata": {
    "execution": {
     "iopub.execute_input": "2022-05-22T20:17:35.241969Z",
     "iopub.status.busy": "2022-05-22T20:17:35.241599Z",
     "iopub.status.idle": "2022-05-22T20:17:40.168551Z",
     "shell.execute_reply": "2022-05-22T20:17:40.167401Z",
     "shell.execute_reply.started": "2022-05-22T20:17:35.241916Z"
    }
   },
   "outputs": [],
   "source": [
    "import numpy as np\n",
    "import pandas as pd\n",
    "\n",
    "import plotly.graph_objects as go\n",
    "import plotly.express as px\n",
    "import plotly.offline as pyo\n",
    "from plotly.subplots import make_subplots\n",
    "pyo.init_notebook_mode()\n",
    "\n",
    "\n",
    "from datetime import date , datetime , timedelta\n",
    "\n",
    "import pycaret.regression as caret\n",
    "\n",
    "\n",
    "import warnings\n",
    "warnings.filterwarnings('ignore')"
   ]
  },
  {
   "cell_type": "code",
   "execution_count": null,
   "metadata": {
    "execution": {
     "iopub.execute_input": "2022-05-22T20:17:40.170879Z",
     "iopub.status.busy": "2022-05-22T20:17:40.170618Z",
     "iopub.status.idle": "2022-05-22T20:17:40.730791Z",
     "shell.execute_reply": "2022-05-22T20:17:40.729691Z",
     "shell.execute_reply.started": "2022-05-22T20:17:40.170847Z"
    }
   },
   "outputs": [],
   "source": [
    "import io\n",
    "import requests\n",
    "url = \"https://raw.githubusercontent.com/owid/covid-19-data/master/public/data/vaccinations/vaccinations.csv\"\n",
    "read_data = requests.get(url).content\n",
    "data_detailed = pd.read_csv(io.StringIO(read_data.decode('utf-8')))\n",
    "\n",
    "url2 = \"https://raw.githubusercontent.com/owid/covid-19-data/master/public/data/vaccinations/vaccinations-by-manufacturer.csv\"\n",
    "read_data2 = requests.get(url2).content\n",
    "data_total = pd.read_csv(io.StringIO(read_data2.decode('utf-8')))\n"
   ]
  },
  {
   "cell_type": "code",
   "execution_count": null,
   "metadata": {
    "execution": {
     "iopub.execute_input": "2022-05-22T20:17:40.732731Z",
     "iopub.status.busy": "2022-05-22T20:17:40.732280Z",
     "iopub.status.idle": "2022-05-22T20:17:40.882310Z",
     "shell.execute_reply": "2022-05-22T20:17:40.881194Z",
     "shell.execute_reply.started": "2022-05-22T20:17:40.732682Z"
    }
   },
   "outputs": [],
   "source": [
    "print(\"* \"*10+\" data_detailed \"+\" *\"*10)\n",
    "print(\"\\nShape: rows = {} , columns = {}\".format(data_detailed.shape[0] , data_detailed.shape[1]))\n",
    "print(data_detailed.info())\n",
    "print(\"* \"*10+\" data_total \"+\" *\"*10)\n",
    "print(\"\\nShape: rows = {} , columns = {}\".format(data_total.shape[0] , data_total.shape[1]))\n",
    "print(data_total.info())"
   ]
  },
  {
   "cell_type": "code",
   "execution_count": null,
   "metadata": {
    "execution": {
     "iopub.execute_input": "2022-05-22T20:17:40.886311Z",
     "iopub.status.busy": "2022-05-22T20:17:40.886023Z",
     "iopub.status.idle": "2022-05-22T20:17:40.906411Z",
     "shell.execute_reply": "2022-05-22T20:17:40.905245Z",
     "shell.execute_reply.started": "2022-05-22T20:17:40.886248Z"
    }
   },
   "outputs": [],
   "source": [
    "data_detailed.date.max()"
   ]
  },
  {
   "cell_type": "code",
   "execution_count": null,
   "metadata": {
    "execution": {
     "iopub.execute_input": "2022-05-22T20:17:40.908348Z",
     "iopub.status.busy": "2022-05-22T20:17:40.907994Z",
     "iopub.status.idle": "2022-05-22T20:17:41.053602Z",
     "shell.execute_reply": "2022-05-22T20:17:41.052628Z",
     "shell.execute_reply.started": "2022-05-22T20:17:40.908307Z"
    }
   },
   "outputs": [],
   "source": [
    "# find the last date\n",
    "last_date = data_detailed.sort_values(by = 'date' , ascending=False)['date'].iloc[0]\n",
    "# its ''2022-05-21'"
   ]
  },
  {
   "cell_type": "code",
   "execution_count": null,
   "metadata": {
    "execution": {
     "iopub.execute_input": "2022-05-22T20:17:41.055465Z",
     "iopub.status.busy": "2022-05-22T20:17:41.055121Z",
     "iopub.status.idle": "2022-05-22T20:17:41.063517Z",
     "shell.execute_reply": "2022-05-22T20:17:41.062478Z",
     "shell.execute_reply.started": "2022-05-22T20:17:41.055409Z"
    }
   },
   "outputs": [],
   "source": [
    "countries = data_total.location.unique()\n"
   ]
  },
  {
   "cell_type": "code",
   "execution_count": null,
   "metadata": {
    "execution": {
     "iopub.execute_input": "2022-05-22T20:17:41.065797Z",
     "iopub.status.busy": "2022-05-22T20:17:41.065151Z",
     "iopub.status.idle": "2022-05-22T20:17:41.112470Z",
     "shell.execute_reply": "2022-05-22T20:17:41.111600Z",
     "shell.execute_reply.started": "2022-05-22T20:17:41.065740Z"
    }
   },
   "outputs": [],
   "source": [
    "data_detailed[(data_detailed.date == last_date)&(data_detailed.people_fully_vaccinated_per_hundred.isnull())]"
   ]
  },
  {
   "cell_type": "code",
   "execution_count": null,
   "metadata": {
    "execution": {
     "iopub.execute_input": "2022-05-22T20:17:41.114190Z",
     "iopub.status.busy": "2022-05-22T20:17:41.113903Z",
     "iopub.status.idle": "2022-05-22T20:17:41.157732Z",
     "shell.execute_reply": "2022-05-22T20:17:41.156546Z",
     "shell.execute_reply.started": "2022-05-22T20:17:41.114153Z"
    }
   },
   "outputs": [],
   "source": [
    "data_detailed[(data_detailed.date == last_date)&(data_detailed.location == 'Germany')]"
   ]
  },
  {
   "cell_type": "markdown",
   "metadata": {},
   "source": []
  },
  {
   "cell_type": "code",
   "execution_count": null,
   "metadata": {
    "execution": {
     "iopub.execute_input": "2022-05-22T20:17:41.159735Z",
     "iopub.status.busy": "2022-05-22T20:17:41.159272Z",
     "iopub.status.idle": "2022-05-22T20:17:41.181215Z",
     "shell.execute_reply": "2022-05-22T20:17:41.180323Z",
     "shell.execute_reply.started": "2022-05-22T20:17:41.159694Z"
    }
   },
   "outputs": [],
   "source": [
    "euro_vaccines = data_total[(data_total.location == 'European Union') &\n",
    "                         (data_total.date == last_date)][['vaccine','total_vaccinations']]\n",
    "euro_vaccines.sort_values(by = 'total_vaccinations' , ascending = False , inplace = True)"
   ]
  },
  {
   "cell_type": "code",
   "execution_count": null,
   "metadata": {
    "execution": {
     "iopub.execute_input": "2022-05-22T20:17:41.183171Z",
     "iopub.status.busy": "2022-05-22T20:17:41.182878Z",
     "iopub.status.idle": "2022-05-22T20:17:41.194953Z",
     "shell.execute_reply": "2022-05-22T20:17:41.193863Z",
     "shell.execute_reply.started": "2022-05-22T20:17:41.183133Z"
    }
   },
   "outputs": [],
   "source": [
    "euro_vaccines"
   ]
  },
  {
   "cell_type": "code",
   "execution_count": null,
   "metadata": {
    "execution": {
     "iopub.execute_input": "2022-05-22T20:17:41.197803Z",
     "iopub.status.busy": "2022-05-22T20:17:41.196691Z",
     "iopub.status.idle": "2022-05-22T20:17:41.236439Z",
     "shell.execute_reply": "2022-05-22T20:17:41.235527Z",
     "shell.execute_reply.started": "2022-05-22T20:17:41.197759Z"
    }
   },
   "outputs": [],
   "source": [
    "pie_euro_vac = go.Figure(data = go.Pie(values = euro_vaccines.total_vaccinations, \n",
    "                          labels = euro_vaccines.vaccine, hole = 0.55))\n",
    "pie_euro_vac.update_traces(textposition='outside', textinfo='percent+label')\n",
    "pie_euro_vac.update_layout(annotations=[dict(text='Vaccines used by', x=0.5, y=0.55, font_size=16, showarrow=False),\n",
    "                                       dict(text='European Union', x=0.5, y=0.45, font_size=16, showarrow=False)])\n",
    "pie_euro_vac.show()"
   ]
  },
  {
   "cell_type": "code",
   "execution_count": null,
   "metadata": {
    "execution": {
     "iopub.execute_input": "2022-05-22T20:17:41.238564Z",
     "iopub.status.busy": "2022-05-22T20:17:41.237737Z",
     "iopub.status.idle": "2022-05-22T20:17:41.270276Z",
     "shell.execute_reply": "2022-05-22T20:17:41.269358Z",
     "shell.execute_reply.started": "2022-05-22T20:17:41.238522Z"
    }
   },
   "outputs": [],
   "source": [
    "data_detailed[data_detailed.location == 'Germany']['date'].max() , data_total[data_total.location == 'Germany']['date'].max()"
   ]
  },
  {
   "cell_type": "code",
   "execution_count": null,
   "metadata": {
    "execution": {
     "iopub.execute_input": "2022-05-22T20:17:41.272201Z",
     "iopub.status.busy": "2022-05-22T20:17:41.271861Z",
     "iopub.status.idle": "2022-05-22T20:17:41.305996Z",
     "shell.execute_reply": "2022-05-22T20:17:41.305156Z",
     "shell.execute_reply.started": "2022-05-22T20:17:41.272162Z"
    }
   },
   "outputs": [],
   "source": [
    "germany_vaccines=data_total[(data_total.location=='Germany')&(data_total.date=='2022-05-18')][['vaccine','total_vaccinations']]\n",
    "germany_vaccines.sort_values(by = 'total_vaccinations' , ascending = False , inplace = True)\n",
    "df_germany_info = data_detailed[data_detailed.location == 'Germany']"
   ]
  },
  {
   "cell_type": "code",
   "execution_count": null,
   "metadata": {
    "execution": {
     "iopub.execute_input": "2022-05-22T20:17:41.308991Z",
     "iopub.status.busy": "2022-05-22T20:17:41.308400Z",
     "iopub.status.idle": "2022-05-22T20:17:41.427201Z",
     "shell.execute_reply": "2022-05-22T20:17:41.426199Z",
     "shell.execute_reply.started": "2022-05-22T20:17:41.308954Z"
    }
   },
   "outputs": [],
   "source": [
    "fig_germany = make_subplots(rows = 4 , cols = 2\n",
    "    , specs=[[{\"type\": \"pie\",\"rowspan\": 2}, {\"type\": \"scatter\",\"rowspan\": 2}]\n",
    "           ,[None , None]\n",
    "           ,[{\"type\": \"scatter\",\"colspan\": 2,\"rowspan\": 2}, None]\n",
    "           ,[None ,\n",
    "             None]]\n",
    "                            \n",
    "    , subplot_titles=[\n",
    "        '', \n",
    "        'temp',\n",
    "        'temp' # i will change the titles a few lines later ...\n",
    "    ])\n",
    "\n",
    "fig_germany.add_trace(go.Pie(labels = germany_vaccines.vaccine , values = germany_vaccines.total_vaccinations\n",
    "                                   , hole = 0.5 , pull = [0,0.1,0.1,0.1] , title = \"Vaccines\" , titleposition='middle center'\n",
    "                                   , titlefont = {'family':'serif' , 'size':18}\n",
    "                                   , textinfo = 'percent+label' , textposition = 'inside')\n",
    "                     , row = 1 , col = 1)\n",
    "\n",
    "fig_germany.add_trace(go.Scatter(x = df_germany_info['date']\n",
    "                                , y = df_germany_info['daily_vaccinations']\n",
    "                                , name = \"Daily vaccinations\")\n",
    "                     , row = 1 , col = 2)\n",
    "\n",
    "fig_germany.add_trace(go.Scatter(x = df_germany_info['date']\n",
    "                                , y = df_germany_info['people_fully_vaccinated_per_hundred']\n",
    "                                , name = \"Fully vaccinated people percentage\"\n",
    "                                 # <br> for the next line in hover\n",
    "                                , hovertemplate = \"<b>%{x}</b><br>\" +\"Fully vaccinated people = %{y:.2f} %\" +\"<extra></extra>\")\n",
    "                     , row = 3 , col = 1)\n",
    "\n",
    "\n",
    "fig_germany.layout.annotations[0].update(text=\"Number of daily vaccinations\" , x=0.75\n",
    "                                         , font = {'family':'serif','size':20})\n",
    "\n",
    "fig_germany.layout.annotations[1].update(text=\"Fully vaccinated people percentage\" , x=0.25 \n",
    "                                         , font = {'family':'serif','size':20})\n",
    "\n",
    "fig_germany.update_yaxes(range=[0, 100], row=3, col=1)\n",
    "fig_germany.update_layout(width = 950,height=600, showlegend=True)\n",
    "fig_germany.update_layout(title_text='Germany abstract informations'\n",
    "                                  ,title_font={'family':'serif','size':26} , title = {'x':0.25 , 'y':0.95})\n",
    "\n",
    "fig_germany.show()"
   ]
  },
  {
   "cell_type": "code",
   "execution_count": null,
   "metadata": {
    "execution": {
     "iopub.execute_input": "2022-05-22T20:17:41.429512Z",
     "iopub.status.busy": "2022-05-22T20:17:41.428929Z",
     "iopub.status.idle": "2022-05-22T20:17:41.444067Z",
     "shell.execute_reply": "2022-05-22T20:17:41.442989Z",
     "shell.execute_reply.started": "2022-05-22T20:17:41.429440Z"
    }
   },
   "outputs": [],
   "source": [
    "data = pd.DataFrame()\n",
    "data['Date'] = pd.to_datetime(df_germany_info['date'])\n",
    "data['Target'] = df_germany_info['people_fully_vaccinated_per_hundred']\n",
    "data.reset_index(drop = True , inplace = True)"
   ]
  },
  {
   "cell_type": "code",
   "execution_count": null,
   "metadata": {
    "execution": {
     "iopub.execute_input": "2022-05-22T20:17:41.446686Z",
     "iopub.status.busy": "2022-05-22T20:17:41.445824Z",
     "iopub.status.idle": "2022-05-22T20:17:41.458753Z",
     "shell.execute_reply": "2022-05-22T20:17:41.457544Z",
     "shell.execute_reply.started": "2022-05-22T20:17:41.446641Z"
    }
   },
   "outputs": [],
   "source": [
    "data.Date.min() , data.Date.max() , len(data)"
   ]
  },
  {
   "cell_type": "code",
   "execution_count": null,
   "metadata": {
    "execution": {
     "iopub.execute_input": "2022-05-22T20:17:41.461151Z",
     "iopub.status.busy": "2022-05-22T20:17:41.460722Z",
     "iopub.status.idle": "2022-05-22T20:17:41.469651Z",
     "shell.execute_reply": "2022-05-22T20:17:41.468525Z",
     "shell.execute_reply.started": "2022-05-22T20:17:41.461108Z"
    }
   },
   "outputs": [],
   "source": [
    "from datetime import date, datetime\n",
    "\n",
    "d0 = date(2020 , 12 , 27)\n",
    "d1 = date(2022 , 5 , 18)\n",
    "delta = d1 - d0\n",
    "\n",
    "days = delta.days + 1\n",
    "print(days)"
   ]
  },
  {
   "cell_type": "code",
   "execution_count": null,
   "metadata": {
    "execution": {
     "iopub.execute_input": "2022-05-22T20:17:41.472547Z",
     "iopub.status.busy": "2022-05-22T20:17:41.471247Z",
     "iopub.status.idle": "2022-05-22T20:17:41.484012Z",
     "shell.execute_reply": "2022-05-22T20:17:41.483018Z",
     "shell.execute_reply.started": "2022-05-22T20:17:41.472504Z"
    }
   },
   "outputs": [],
   "source": [
    "data=data.dropna()"
   ]
  },
  {
   "cell_type": "code",
   "execution_count": null,
   "metadata": {
    "execution": {
     "iopub.execute_input": "2022-05-22T20:39:13.172971Z",
     "iopub.status.busy": "2022-05-22T20:39:13.172190Z",
     "iopub.status.idle": "2022-05-22T20:39:13.179884Z",
     "shell.execute_reply": "2022-05-22T20:39:13.178730Z",
     "shell.execute_reply.started": "2022-05-22T20:39:13.172938Z"
    }
   },
   "outputs": [],
   "source": []
  },
  {
   "cell_type": "code",
   "execution_count": null,
   "metadata": {
    "execution": {
     "iopub.execute_input": "2022-05-22T20:17:41.486398Z",
     "iopub.status.busy": "2022-05-22T20:17:41.485836Z",
     "iopub.status.idle": "2022-05-22T20:17:41.500018Z",
     "shell.execute_reply": "2022-05-22T20:17:41.498749Z",
     "shell.execute_reply.started": "2022-05-22T20:17:41.486351Z"
    }
   },
   "outputs": [],
   "source": [
    "data.isnull().sum()"
   ]
  },
  {
   "cell_type": "code",
   "execution_count": null,
   "metadata": {
    "execution": {
     "iopub.execute_input": "2022-05-22T20:17:41.502635Z",
     "iopub.status.busy": "2022-05-22T20:17:41.502105Z",
     "iopub.status.idle": "2022-05-22T20:17:41.671398Z",
     "shell.execute_reply": "2022-05-22T20:17:41.670513Z",
     "shell.execute_reply.started": "2022-05-22T20:17:41.502592Z"
    }
   },
   "outputs": [],
   "source": [
    "data['Series'] = np.arange(1 , len(data)+1)\n",
    "\n",
    "# Shift1 is the previous value(Target) for each row :\n",
    "data['Shift1'] = data.Target.shift(1)\n",
    "\n",
    "# mean of the Target during 10 previous days :\n",
    "window_len = 10\n",
    "window = data['Shift1'].rolling(window = window_len)\n",
    "means = window.mean()\n",
    "data['Window_mean'] = means\n",
    "\n",
    "\n",
    "# This approach will make some Missing values (for example we dont have the previous value for the first row)\n",
    "data.dropna(inplace = True)\n",
    "data.reset_index(drop = True , inplace=True)\n",
    "\n",
    "dates = data['Date'] # we will need this\n",
    "\n",
    "data = data[['Series' , 'Window_mean' , 'Shift1' , 'Target']]\n",
    "\n",
    "data"
   ]
  },
  {
   "cell_type": "code",
   "execution_count": null,
   "metadata": {
    "execution": {
     "iopub.execute_input": "2022-05-22T20:17:41.673243Z",
     "iopub.status.busy": "2022-05-22T20:17:41.672813Z",
     "iopub.status.idle": "2022-05-22T20:17:41.686798Z",
     "shell.execute_reply": "2022-05-22T20:17:41.684642Z",
     "shell.execute_reply.started": "2022-05-22T20:17:41.673204Z"
    }
   },
   "outputs": [],
   "source": [
    "# 50% for train & 50% for test\n",
    "train = data.iloc[:230,:] \n",
    "test = data.iloc[230:,:]\n",
    "\n",
    "train.shape , test.shape"
   ]
  },
  {
   "cell_type": "code",
   "execution_count": null,
   "metadata": {
    "execution": {
     "iopub.execute_input": "2022-05-22T20:17:41.688854Z",
     "iopub.status.busy": "2022-05-22T20:17:41.688308Z",
     "iopub.status.idle": "2022-05-22T20:28:28.095939Z",
     "shell.execute_reply": "2022-05-22T20:28:28.094897Z",
     "shell.execute_reply.started": "2022-05-22T20:17:41.688814Z"
    }
   },
   "outputs": [],
   "source": [
    "setup = caret.setup(data = train , test_data = test , target = 'Target' , fold_strategy = 'timeseries'\n",
    "                 , remove_perfect_collinearity = False , numeric_features = ['Series' , 'Window_mean' , 'Shift1'] \n",
    "                     , fold = 5 , session_id = 51)"
   ]
  },
  {
   "cell_type": "code",
   "execution_count": null,
   "metadata": {
    "execution": {
     "iopub.execute_input": "2022-05-22T20:28:28.097999Z",
     "iopub.status.busy": "2022-05-22T20:28:28.097668Z",
     "iopub.status.idle": "2022-05-22T20:29:10.245772Z",
     "shell.execute_reply": "2022-05-22T20:29:10.244735Z",
     "shell.execute_reply.started": "2022-05-22T20:28:28.097957Z"
    }
   },
   "outputs": [],
   "source": [
    "best = caret.compare_models(sort = 'MAE' , turbo = False)"
   ]
  },
  {
   "cell_type": "code",
   "execution_count": null,
   "metadata": {
    "execution": {
     "iopub.execute_input": "2022-05-22T20:29:10.248319Z",
     "iopub.status.busy": "2022-05-22T20:29:10.247336Z",
     "iopub.status.idle": "2022-05-22T20:29:12.540148Z",
     "shell.execute_reply": "2022-05-22T20:29:12.539047Z",
     "shell.execute_reply.started": "2022-05-22T20:29:10.248271Z"
    }
   },
   "outputs": [],
   "source": [
    "best = caret.tune_model(best)"
   ]
  },
  {
   "cell_type": "code",
   "execution_count": null,
   "metadata": {
    "execution": {
     "iopub.execute_input": "2022-05-22T20:29:12.542386Z",
     "iopub.status.busy": "2022-05-22T20:29:12.542042Z",
     "iopub.status.idle": "2022-05-22T20:29:12.784714Z",
     "shell.execute_reply": "2022-05-22T20:29:12.783593Z",
     "shell.execute_reply.started": "2022-05-22T20:29:12.542342Z"
    }
   },
   "outputs": [],
   "source": [
    "_ = caret.predict_model(best)"
   ]
  },
  {
   "cell_type": "code",
   "execution_count": null,
   "metadata": {
    "execution": {
     "iopub.execute_input": "2022-05-22T20:29:12.786800Z",
     "iopub.status.busy": "2022-05-22T20:29:12.786447Z",
     "iopub.status.idle": "2022-05-22T20:29:13.190147Z",
     "shell.execute_reply": "2022-05-22T20:29:13.188957Z",
     "shell.execute_reply.started": "2022-05-22T20:29:12.786749Z"
    }
   },
   "outputs": [],
   "source": [
    "# generate predictions on the original dataset\n",
    "predictions = caret.predict_model(best , data=data)\n",
    "\n",
    "# add a date column in the dataset\n",
    "predictions['Date'] = dates\n",
    "\n",
    "# line plot\n",
    "fig = px.line(predictions.rename(columns = {'Target':'Actual' }), x='Date', y=[\"Actual\"])\n",
    "fig.update_layout(annotations=[dict(text='Test set', x='2022-4-15', y=30, font_size=20, showarrow=False)])\n",
    "# add a vertical rectangle for test-set separation\n",
    "\n",
    "fig.add_vrect(x0 = dates.iloc[230], x1 = dates.iloc[-1], fillcolor=\"grey\", opacity=0.25, line_width=1)\n",
    "fig.show()"
   ]
  },
  {
   "cell_type": "markdown",
   "metadata": {},
   "source": [
    "##  Future forecasting\n",
    "* As we used lag and window features, forecasting the future is a little harder.\n",
    "* For example we dont have the previous value for 2022-5-29 since we dont know the target value at 2022-5-28\n",
    "* So we will start from the first future time step and both we make predictions and also fill the lag features for next   time steps. (maybe something like recursive functions)\n"
   ]
  },
  {
   "cell_type": "code",
   "execution_count": null,
   "metadata": {
    "execution": {
     "iopub.execute_input": "2022-05-22T20:29:13.192356Z",
     "iopub.status.busy": "2022-05-22T20:29:13.192015Z",
     "iopub.status.idle": "2022-05-22T20:29:13.224009Z",
     "shell.execute_reply": "2022-05-22T20:29:13.222770Z",
     "shell.execute_reply.started": "2022-05-22T20:29:13.192312Z"
    }
   },
   "outputs": [],
   "source": [
    "future = pd.DataFrame(columns = ['Series' , 'Window_mean' , 'Shift1'])\n",
    "future['Series'] = np.arange(300,450) # for the next 150 time steps\n",
    "future['Window_mean'] = np.nan\n",
    "future['Shift1'] = np.nan\n",
    "\n",
    "# initialize the first row :\n",
    "#------------------------------\n",
    "future.iloc[0,2] = data['Target'].max()\n",
    "sum = 0\n",
    "for i in range(window_len):\n",
    "    sum += data.iloc[len(data)-1-i,3]\n",
    "    \n",
    "future.iloc[0,1] = sum/window_len\n",
    "future"
   ]
  },
  {
   "cell_type": "code",
   "execution_count": null,
   "metadata": {
    "execution": {
     "iopub.execute_input": "2022-05-22T20:29:13.226005Z",
     "iopub.status.busy": "2022-05-22T20:29:13.225498Z",
     "iopub.status.idle": "2022-05-22T20:29:48.795716Z",
     "shell.execute_reply": "2022-05-22T20:29:48.794707Z",
     "shell.execute_reply.started": "2022-05-22T20:29:13.225960Z"
    }
   },
   "outputs": [],
   "source": [
    "for j in range(len(future)):\n",
    "    current_row = j\n",
    "    next_row = j+1\n",
    "    \n",
    "    # for the next_row we are going to fill :\n",
    "    # 1. Shift1 --> use currnet_row predicted value\n",
    "    # 2. Window_mean\n",
    "    \n",
    "    if current_row != len(future)-1 :\n",
    "        # fill Shift1 for the next_row\n",
    "        future.iloc[next_row,2] = caret.predict_model(best , future.iloc[[current_row]])['Label']\n",
    "#         print(future.iloc[next_row,2]-future.iloc[current_row,2])\n",
    "        \n",
    "        \n",
    "        # fill the Window_mean for the next_row\n",
    "        if next_row < 9 :\n",
    "            sum = 0\n",
    "            num_rows_from_data = window_len - (next_row + 1)\n",
    "            num_rows_from_future = window_len - num_rows_from_data\n",
    "\n",
    "            for i in range(num_rows_from_data):\n",
    "                sum += data.iloc[len(data)-1-i , 2]\n",
    "\n",
    "\n",
    "            for i in range(num_rows_from_future):\n",
    "                sum += future.iloc[next_row - i , 2]\n",
    "\n",
    "            future.iloc[next_row , 1] = sum/window_len\n",
    "\n",
    "\n",
    "        elif next_row >= 9:\n",
    "            sum = 0\n",
    "            for i in range(window_len):\n",
    "                sum += future.iloc[next_row-i,2]\n",
    "            future.iloc[next_row,1] = sum/window_len"
   ]
  },
  {
   "cell_type": "markdown",
   "metadata": {},
   "source": [
    "* As you see in the above cell, in each row of the future data frame we have the previous value in 'Shift1' column.\n",
    "* So with a reverse shift of this column, we have the current value for each row."
   ]
  },
  {
   "cell_type": "code",
   "execution_count": null,
   "metadata": {
    "execution": {
     "iopub.execute_input": "2022-05-22T20:29:48.799473Z",
     "iopub.status.busy": "2022-05-22T20:29:48.797131Z",
     "iopub.status.idle": "2022-05-22T20:29:48.829460Z",
     "shell.execute_reply": "2022-05-22T20:29:48.828491Z",
     "shell.execute_reply.started": "2022-05-22T20:29:48.799425Z"
    }
   },
   "outputs": [],
   "source": [
    "future['Predicted'] = future['Shift1'].shift(-1)\n",
    "\n",
    "start = datetime.strptime(\"2022-05-19\", \"%Y-%m-%d\")\n",
    "date_generated = [start + timedelta(days=x) for x in range(0, 150)]\n",
    "date_list = []\n",
    "for date in date_generated:\n",
    "    date_list.append(date.strftime(\"%Y-%m-%d\"))\n",
    "    \n",
    "future['Date'] = date_list\n",
    "\n",
    "future = future[['Date' , 'Predicted']]\n",
    "future.dropna(inplace = True)\n",
    "future"
   ]
  },
  {
   "cell_type": "code",
   "execution_count": null,
   "metadata": {
    "execution": {
     "iopub.execute_input": "2022-05-22T20:29:48.831274Z",
     "iopub.status.busy": "2022-05-22T20:29:48.830963Z",
     "iopub.status.idle": "2022-05-22T20:29:48.862046Z",
     "shell.execute_reply": "2022-05-22T20:29:48.861136Z",
     "shell.execute_reply.started": "2022-05-22T20:29:48.831233Z"
    }
   },
   "outputs": [],
   "source": [
    "fig = go.Figure(data=go.Scatter(x=df_germany_info['date'], y = df_germany_info['people_fully_vaccinated_per_hundred']\n",
    "                                ,mode='lines', line_color='red' , name = 'Until now'))\n",
    "fig.add_trace(go.Scatter(x=future['Date'], y=future['Predicted'],mode='lines', line=dict(color=\"#0000ff\"), name = 'Future'))\n",
    "\n",
    "\n",
    "\n",
    "fig.show()\n"
   ]
  },
  {
   "cell_type": "markdown",
   "metadata": {},
   "source": [
    "## About 13th october 2022\n",
    "## 100% of people in Germany will get fully vaccinated ?! Maybe"
   ]
  },
  {
   "cell_type": "markdown",
   "metadata": {},
   "source": [
    "# 6. conclusion"
   ]
  },
  {
   "cell_type": "markdown",
   "metadata": {},
   "source": [
    "European union is one of the best example for the region which has many deaths and also which produced high number of total vaccinations. Also the gdp of countries of this region has not much differed after pandemic.\n",
    "\n",
    "Comparing the Root-mean-square error (rmse)  and coefficient of discrimination(R2) values of  models, Huber regression is selected with least RMSE of 0.1678 and R2 value of 0.9974 as the best model to predict the total vaccinations of particular region over the time period.\n",
    "\n",
    "According to our model,Total Vaccinations of Germany might be completed by 2nd week of October.   "
   ]
  },
  {
   "cell_type": "markdown",
   "metadata": {},
   "source": [
    "# 7. Future Scope"
   ]
  },
  {
   "cell_type": "markdown",
   "metadata": {},
   "source": [
    "The country governments can improve the vaccination facilities and availibility of vaccines to different locations by demand of vaccines and by refering most used vaccines across different countries.\n",
    "The synthesis of current research will be helpful to researchers analyzing historical trends in the COVID-19 pandemic and individuals interested in better understanding and advocating for underserved communities across the globe."
   ]
  },
  {
   "cell_type": "markdown",
   "metadata": {},
   "source": [
    "# 8. References"
   ]
  },
  {
   "cell_type": "markdown",
   "metadata": {},
   "source": [
    "https://ourworldindata.org/covid-vaccinations                       \n",
    "\n",
    "https://www.analyticsvidhya.com/blog/2019/12/6-powerful-feature-engineering-techniques-time-series/\n",
    "\n",
    "https://www.sciencedirect.com/science/article/pii/S2211379721006197\n",
    "\n",
    "https://pycaret.gitbook.io/docs/\n",
    "\n",
    "https://github.com/owid/covid-19-data/tree/master/public/data/vaccinations\n",
    "\n",
    "https://towardsdatascience.com/regression-in-the-face-of-messy-outliers-try-huber-regressor-3a54ddc12516\n",
    "\n",
    "https://www.nature.com/articles/s41598-022-05915-3\n",
    "\n",
    "https://journals.plos.org/plosone/article?id=10.1371/journal.pone.0253925\n",
    "\n",
    "https://machinelearningmastery.com/robust-regression-for-machine-learning-in-python/"
   ]
  },
  {
   "cell_type": "code",
   "execution_count": null,
   "metadata": {},
   "outputs": [],
   "source": []
  }
 ],
 "metadata": {
  "kernelspec": {
   "display_name": "Python 3 (ipykernel)",
   "language": "python",
   "name": "python3"
  },
  "language_info": {
   "codemirror_mode": {
    "name": "ipython",
    "version": 3
   },
   "file_extension": ".py",
   "mimetype": "text/x-python",
   "name": "python",
   "nbconvert_exporter": "python",
   "pygments_lexer": "ipython3",
   "version": "3.12.5"
  }
 },
 "nbformat": 4,
 "nbformat_minor": 4
}
